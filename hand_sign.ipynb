{
 "cells": [
  {
   "cell_type": "code",
   "execution_count": 1,
   "metadata": {},
   "outputs": [],
   "source": [
    "#importing modules\n",
    "import pandas as pd\n",
    "import numpy as np\n",
    "import matplotlib.pyplot as plt\n",
    "import seaborn as sns\n",
    "import sklearn.metrics as smt"
   ]
  },
  {
   "cell_type": "code",
   "execution_count": 2,
   "metadata": {},
   "outputs": [
    {
     "data": {
      "text/html": [
       "<div>\n",
       "<style scoped>\n",
       "    .dataframe tbody tr th:only-of-type {\n",
       "        vertical-align: middle;\n",
       "    }\n",
       "\n",
       "    .dataframe tbody tr th {\n",
       "        vertical-align: top;\n",
       "    }\n",
       "\n",
       "    .dataframe thead th {\n",
       "        text-align: right;\n",
       "    }\n",
       "</style>\n",
       "<table border=\"1\" class=\"dataframe\">\n",
       "  <thead>\n",
       "    <tr style=\"text-align: right;\">\n",
       "      <th></th>\n",
       "      <th>label</th>\n",
       "      <th>pixel1</th>\n",
       "      <th>pixel2</th>\n",
       "      <th>pixel3</th>\n",
       "      <th>pixel4</th>\n",
       "      <th>pixel5</th>\n",
       "      <th>pixel6</th>\n",
       "      <th>pixel7</th>\n",
       "      <th>pixel8</th>\n",
       "      <th>pixel9</th>\n",
       "      <th>...</th>\n",
       "      <th>pixel775</th>\n",
       "      <th>pixel776</th>\n",
       "      <th>pixel777</th>\n",
       "      <th>pixel778</th>\n",
       "      <th>pixel779</th>\n",
       "      <th>pixel780</th>\n",
       "      <th>pixel781</th>\n",
       "      <th>pixel782</th>\n",
       "      <th>pixel783</th>\n",
       "      <th>pixel784</th>\n",
       "    </tr>\n",
       "  </thead>\n",
       "  <tbody>\n",
       "    <tr>\n",
       "      <th>0</th>\n",
       "      <td>3</td>\n",
       "      <td>107</td>\n",
       "      <td>118</td>\n",
       "      <td>127</td>\n",
       "      <td>134</td>\n",
       "      <td>139</td>\n",
       "      <td>143</td>\n",
       "      <td>146</td>\n",
       "      <td>150</td>\n",
       "      <td>153</td>\n",
       "      <td>...</td>\n",
       "      <td>207</td>\n",
       "      <td>207</td>\n",
       "      <td>207</td>\n",
       "      <td>207</td>\n",
       "      <td>206</td>\n",
       "      <td>206</td>\n",
       "      <td>206</td>\n",
       "      <td>204</td>\n",
       "      <td>203</td>\n",
       "      <td>202</td>\n",
       "    </tr>\n",
       "    <tr>\n",
       "      <th>1</th>\n",
       "      <td>6</td>\n",
       "      <td>155</td>\n",
       "      <td>157</td>\n",
       "      <td>156</td>\n",
       "      <td>156</td>\n",
       "      <td>156</td>\n",
       "      <td>157</td>\n",
       "      <td>156</td>\n",
       "      <td>158</td>\n",
       "      <td>158</td>\n",
       "      <td>...</td>\n",
       "      <td>69</td>\n",
       "      <td>149</td>\n",
       "      <td>128</td>\n",
       "      <td>87</td>\n",
       "      <td>94</td>\n",
       "      <td>163</td>\n",
       "      <td>175</td>\n",
       "      <td>103</td>\n",
       "      <td>135</td>\n",
       "      <td>149</td>\n",
       "    </tr>\n",
       "    <tr>\n",
       "      <th>2</th>\n",
       "      <td>2</td>\n",
       "      <td>187</td>\n",
       "      <td>188</td>\n",
       "      <td>188</td>\n",
       "      <td>187</td>\n",
       "      <td>187</td>\n",
       "      <td>186</td>\n",
       "      <td>187</td>\n",
       "      <td>188</td>\n",
       "      <td>187</td>\n",
       "      <td>...</td>\n",
       "      <td>202</td>\n",
       "      <td>201</td>\n",
       "      <td>200</td>\n",
       "      <td>199</td>\n",
       "      <td>198</td>\n",
       "      <td>199</td>\n",
       "      <td>198</td>\n",
       "      <td>195</td>\n",
       "      <td>194</td>\n",
       "      <td>195</td>\n",
       "    </tr>\n",
       "    <tr>\n",
       "      <th>3</th>\n",
       "      <td>2</td>\n",
       "      <td>211</td>\n",
       "      <td>211</td>\n",
       "      <td>212</td>\n",
       "      <td>212</td>\n",
       "      <td>211</td>\n",
       "      <td>210</td>\n",
       "      <td>211</td>\n",
       "      <td>210</td>\n",
       "      <td>210</td>\n",
       "      <td>...</td>\n",
       "      <td>235</td>\n",
       "      <td>234</td>\n",
       "      <td>233</td>\n",
       "      <td>231</td>\n",
       "      <td>230</td>\n",
       "      <td>226</td>\n",
       "      <td>225</td>\n",
       "      <td>222</td>\n",
       "      <td>229</td>\n",
       "      <td>163</td>\n",
       "    </tr>\n",
       "    <tr>\n",
       "      <th>4</th>\n",
       "      <td>13</td>\n",
       "      <td>164</td>\n",
       "      <td>167</td>\n",
       "      <td>170</td>\n",
       "      <td>172</td>\n",
       "      <td>176</td>\n",
       "      <td>179</td>\n",
       "      <td>180</td>\n",
       "      <td>184</td>\n",
       "      <td>185</td>\n",
       "      <td>...</td>\n",
       "      <td>92</td>\n",
       "      <td>105</td>\n",
       "      <td>105</td>\n",
       "      <td>108</td>\n",
       "      <td>133</td>\n",
       "      <td>163</td>\n",
       "      <td>157</td>\n",
       "      <td>163</td>\n",
       "      <td>164</td>\n",
       "      <td>179</td>\n",
       "    </tr>\n",
       "  </tbody>\n",
       "</table>\n",
       "<p>5 rows × 785 columns</p>\n",
       "</div>"
      ],
      "text/plain": [
       "   label  pixel1  pixel2  pixel3  pixel4  pixel5  pixel6  pixel7  pixel8  \\\n",
       "0      3     107     118     127     134     139     143     146     150   \n",
       "1      6     155     157     156     156     156     157     156     158   \n",
       "2      2     187     188     188     187     187     186     187     188   \n",
       "3      2     211     211     212     212     211     210     211     210   \n",
       "4     13     164     167     170     172     176     179     180     184   \n",
       "\n",
       "   pixel9    ...     pixel775  pixel776  pixel777  pixel778  pixel779  \\\n",
       "0     153    ...          207       207       207       207       206   \n",
       "1     158    ...           69       149       128        87        94   \n",
       "2     187    ...          202       201       200       199       198   \n",
       "3     210    ...          235       234       233       231       230   \n",
       "4     185    ...           92       105       105       108       133   \n",
       "\n",
       "   pixel780  pixel781  pixel782  pixel783  pixel784  \n",
       "0       206       206       204       203       202  \n",
       "1       163       175       103       135       149  \n",
       "2       199       198       195       194       195  \n",
       "3       226       225       222       229       163  \n",
       "4       163       157       163       164       179  \n",
       "\n",
       "[5 rows x 785 columns]"
      ]
     },
     "execution_count": 2,
     "metadata": {},
     "output_type": "execute_result"
    }
   ],
   "source": [
    "#importing dataset\n",
    "dataset = pd.read_csv('sign_mnist.csv')\n",
    "\n",
    "#displaying first 5 rows of the dataset\n",
    "dataset.head()"
   ]
  },
  {
   "cell_type": "code",
   "execution_count": 3,
   "metadata": {
    "scrolled": true
   },
   "outputs": [
    {
     "data": {
      "text/plain": [
       "(27455, 785)"
      ]
     },
     "execution_count": 3,
     "metadata": {},
     "output_type": "execute_result"
    }
   ],
   "source": [
    "#shape of dataset (number of rows and columns present where each row is an example of )\n",
    "dataset.shape"
   ]
  },
  {
   "cell_type": "code",
   "execution_count": 4,
   "metadata": {},
   "outputs": [
    {
     "data": {
      "text/html": [
       "<div>\n",
       "<style scoped>\n",
       "    .dataframe tbody tr th:only-of-type {\n",
       "        vertical-align: middle;\n",
       "    }\n",
       "\n",
       "    .dataframe tbody tr th {\n",
       "        vertical-align: top;\n",
       "    }\n",
       "\n",
       "    .dataframe thead th {\n",
       "        text-align: right;\n",
       "    }\n",
       "</style>\n",
       "<table border=\"1\" class=\"dataframe\">\n",
       "  <thead>\n",
       "    <tr style=\"text-align: right;\">\n",
       "      <th></th>\n",
       "      <th>pixel1</th>\n",
       "      <th>pixel2</th>\n",
       "      <th>pixel3</th>\n",
       "      <th>pixel4</th>\n",
       "      <th>pixel5</th>\n",
       "      <th>pixel6</th>\n",
       "      <th>pixel7</th>\n",
       "      <th>pixel8</th>\n",
       "      <th>pixel9</th>\n",
       "      <th>pixel10</th>\n",
       "      <th>...</th>\n",
       "      <th>pixel775</th>\n",
       "      <th>pixel776</th>\n",
       "      <th>pixel777</th>\n",
       "      <th>pixel778</th>\n",
       "      <th>pixel779</th>\n",
       "      <th>pixel780</th>\n",
       "      <th>pixel781</th>\n",
       "      <th>pixel782</th>\n",
       "      <th>pixel783</th>\n",
       "      <th>pixel784</th>\n",
       "    </tr>\n",
       "  </thead>\n",
       "  <tbody>\n",
       "    <tr>\n",
       "      <th>0</th>\n",
       "      <td>107</td>\n",
       "      <td>118</td>\n",
       "      <td>127</td>\n",
       "      <td>134</td>\n",
       "      <td>139</td>\n",
       "      <td>143</td>\n",
       "      <td>146</td>\n",
       "      <td>150</td>\n",
       "      <td>153</td>\n",
       "      <td>156</td>\n",
       "      <td>...</td>\n",
       "      <td>207</td>\n",
       "      <td>207</td>\n",
       "      <td>207</td>\n",
       "      <td>207</td>\n",
       "      <td>206</td>\n",
       "      <td>206</td>\n",
       "      <td>206</td>\n",
       "      <td>204</td>\n",
       "      <td>203</td>\n",
       "      <td>202</td>\n",
       "    </tr>\n",
       "    <tr>\n",
       "      <th>1</th>\n",
       "      <td>155</td>\n",
       "      <td>157</td>\n",
       "      <td>156</td>\n",
       "      <td>156</td>\n",
       "      <td>156</td>\n",
       "      <td>157</td>\n",
       "      <td>156</td>\n",
       "      <td>158</td>\n",
       "      <td>158</td>\n",
       "      <td>157</td>\n",
       "      <td>...</td>\n",
       "      <td>69</td>\n",
       "      <td>149</td>\n",
       "      <td>128</td>\n",
       "      <td>87</td>\n",
       "      <td>94</td>\n",
       "      <td>163</td>\n",
       "      <td>175</td>\n",
       "      <td>103</td>\n",
       "      <td>135</td>\n",
       "      <td>149</td>\n",
       "    </tr>\n",
       "    <tr>\n",
       "      <th>2</th>\n",
       "      <td>187</td>\n",
       "      <td>188</td>\n",
       "      <td>188</td>\n",
       "      <td>187</td>\n",
       "      <td>187</td>\n",
       "      <td>186</td>\n",
       "      <td>187</td>\n",
       "      <td>188</td>\n",
       "      <td>187</td>\n",
       "      <td>186</td>\n",
       "      <td>...</td>\n",
       "      <td>202</td>\n",
       "      <td>201</td>\n",
       "      <td>200</td>\n",
       "      <td>199</td>\n",
       "      <td>198</td>\n",
       "      <td>199</td>\n",
       "      <td>198</td>\n",
       "      <td>195</td>\n",
       "      <td>194</td>\n",
       "      <td>195</td>\n",
       "    </tr>\n",
       "    <tr>\n",
       "      <th>3</th>\n",
       "      <td>211</td>\n",
       "      <td>211</td>\n",
       "      <td>212</td>\n",
       "      <td>212</td>\n",
       "      <td>211</td>\n",
       "      <td>210</td>\n",
       "      <td>211</td>\n",
       "      <td>210</td>\n",
       "      <td>210</td>\n",
       "      <td>211</td>\n",
       "      <td>...</td>\n",
       "      <td>235</td>\n",
       "      <td>234</td>\n",
       "      <td>233</td>\n",
       "      <td>231</td>\n",
       "      <td>230</td>\n",
       "      <td>226</td>\n",
       "      <td>225</td>\n",
       "      <td>222</td>\n",
       "      <td>229</td>\n",
       "      <td>163</td>\n",
       "    </tr>\n",
       "    <tr>\n",
       "      <th>4</th>\n",
       "      <td>164</td>\n",
       "      <td>167</td>\n",
       "      <td>170</td>\n",
       "      <td>172</td>\n",
       "      <td>176</td>\n",
       "      <td>179</td>\n",
       "      <td>180</td>\n",
       "      <td>184</td>\n",
       "      <td>185</td>\n",
       "      <td>186</td>\n",
       "      <td>...</td>\n",
       "      <td>92</td>\n",
       "      <td>105</td>\n",
       "      <td>105</td>\n",
       "      <td>108</td>\n",
       "      <td>133</td>\n",
       "      <td>163</td>\n",
       "      <td>157</td>\n",
       "      <td>163</td>\n",
       "      <td>164</td>\n",
       "      <td>179</td>\n",
       "    </tr>\n",
       "  </tbody>\n",
       "</table>\n",
       "<p>5 rows × 784 columns</p>\n",
       "</div>"
      ],
      "text/plain": [
       "   pixel1  pixel2  pixel3  pixel4  pixel5  pixel6  pixel7  pixel8  pixel9  \\\n",
       "0     107     118     127     134     139     143     146     150     153   \n",
       "1     155     157     156     156     156     157     156     158     158   \n",
       "2     187     188     188     187     187     186     187     188     187   \n",
       "3     211     211     212     212     211     210     211     210     210   \n",
       "4     164     167     170     172     176     179     180     184     185   \n",
       "\n",
       "   pixel10    ...     pixel775  pixel776  pixel777  pixel778  pixel779  \\\n",
       "0      156    ...          207       207       207       207       206   \n",
       "1      157    ...           69       149       128        87        94   \n",
       "2      186    ...          202       201       200       199       198   \n",
       "3      211    ...          235       234       233       231       230   \n",
       "4      186    ...           92       105       105       108       133   \n",
       "\n",
       "   pixel780  pixel781  pixel782  pixel783  pixel784  \n",
       "0       206       206       204       203       202  \n",
       "1       163       175       103       135       149  \n",
       "2       199       198       195       194       195  \n",
       "3       226       225       222       229       163  \n",
       "4       163       157       163       164       179  \n",
       "\n",
       "[5 rows x 784 columns]"
      ]
     },
     "execution_count": 4,
     "metadata": {},
     "output_type": "execute_result"
    }
   ],
   "source": [
    "#seperating features columns from dataset\n",
    "features = pd.DataFrame(data = dataset.drop(axis=1, columns='label'))\n",
    "features.head()"
   ]
  },
  {
   "cell_type": "code",
   "execution_count": 5,
   "metadata": {
    "scrolled": false
   },
   "outputs": [
    {
     "data": {
      "text/plain": [
       "Text(0.5,1,'Distribution of Classes')"
      ]
     },
     "execution_count": 5,
     "metadata": {},
     "output_type": "execute_result"
    },
    {
     "data": {
      "image/png": "[encoded data removed]",
      "text/plain": [
       "<Figure size 1296x576 with 1 Axes>"
      ]
     },
     "metadata": {},
     "output_type": "display_data"
    }
   ],
   "source": [
    "#extracting target column from dataset\n",
    "target = dataset['label']\n",
    "\n",
    "#visualising balance amoung the classes\n",
    "plt.figure(figsize=(18,8))\n",
    "sns.countplot(x=target,palette='winter')\n",
    "plt.title('Distribution of Classes',size=20)"
   ]
  },
  {
   "cell_type": "markdown",
   "metadata": {},
   "source": [
    "### The above graph show that the class distribution in the provided dataset is approximately equal."
   ]
  },
  {
   "cell_type": "code",
   "execution_count": 6,
   "metadata": {
    "scrolled": false
   },
   "outputs": [
    {
     "data": {
      "image/png": "[encoded data removed]",
      "text/plain": [
       "<Figure size 1152x576 with 10 Axes>"
      ]
     },
     "metadata": {},
     "output_type": "display_data"
    }
   ],
   "source": [
    "#visualizing a sample from the dataset\n",
    "fig=plt.figure(figsize=(16,8))\n",
    "i=1\n",
    "j=0\n",
    "fig.suptitle(\"Some Images from Dataset\",size=20)\n",
    "for row in features.iterrows():\n",
    "    img=np.array(row[1]).reshape(28,28)\n",
    "    ax=plt.subplot(2,5,i)\n",
    "    ax.set_title(target[j],fontsize=20)\n",
    "    ax.imshow(img)\n",
    "    i+=1\n",
    "    j+=1\n",
    "    if i==11:\n",
    "        break"
   ]
  },
  {
   "cell_type": "code",
   "execution_count": 7,
   "metadata": {},
   "outputs": [],
   "source": [
    "#creating empty lists to further store model name and it's accuracy in 'model' and 'acc' respectively\n",
    "model = list()\n",
    "acc = list()"
   ]
  },
  {
   "cell_type": "code",
   "execution_count": 8,
   "metadata": {},
   "outputs": [],
   "source": [
    "from sklearn.model_selection import train_test_split\n",
    "\n",
    "#splitting dataset into training data and testing data respectively\n",
    "x_train, x_test, y_train, y_test = train_test_split(features,target, test_size=0.33, random_state=42)"
   ]
  },
  {
   "cell_type": "code",
   "execution_count": 9,
   "metadata": {},
   "outputs": [
    {
     "name": "stdout",
     "output_type": "stream",
     "text": [
      "Accuracy Score :  0.8654673877055513\n"
     ]
    }
   ],
   "source": [
    "from sklearn.tree import DecisionTreeClassifier\n",
    "\n",
    "#model 1 ----> Decision Tree Classifier\n",
    "tree = DecisionTreeClassifier()\n",
    "tree.fit(x_train,y_train)\n",
    "pred_y = tree.predict(x_test)\n",
    "\n",
    "#storing model name and it's accuracy\n",
    "model.append('Decision Tree Classifier')\n",
    "acc.append(smt.accuracy_score(y_test,pred_y)*100)\n",
    "\n",
    "print(\"Accuracy Score : \",smt.accuracy_score(y_test,pred_y))"
   ]
  },
  {
   "cell_type": "code",
   "execution_count": 10,
   "metadata": {},
   "outputs": [
    {
     "name": "stdout",
     "output_type": "stream",
     "text": [
      "Classification Report for Decision Tree Classifier: \n",
      "               precision    recall  f1-score   support\n",
      "\n",
      "           0       0.89      0.91      0.90       354\n",
      "           1       0.82      0.89      0.85       302\n",
      "           2       0.93      0.95      0.94       378\n",
      "           3       0.88      0.89      0.88       407\n",
      "           4       0.83      0.78      0.81       320\n",
      "           5       0.90      0.88      0.89       407\n",
      "           6       0.90      0.89      0.89       348\n",
      "           7       0.85      0.87      0.86       339\n",
      "           8       0.82      0.82      0.82       392\n",
      "          10       0.86      0.83      0.85       373\n",
      "          11       0.88      0.88      0.88       424\n",
      "          12       0.79      0.86      0.82       362\n",
      "          13       0.85      0.84      0.84       377\n",
      "          14       0.94      0.91      0.92       400\n",
      "          15       0.87      0.91      0.89       349\n",
      "          16       0.93      0.92      0.93       436\n",
      "          17       0.84      0.83      0.83       432\n",
      "          18       0.85      0.79      0.82       445\n",
      "          19       0.85      0.85      0.85       379\n",
      "          20       0.86      0.86      0.86       384\n",
      "          21       0.82      0.84      0.83       326\n",
      "          22       0.86      0.85      0.86       403\n",
      "          23       0.90      0.88      0.89       381\n",
      "          24       0.83      0.86      0.84       343\n",
      "\n",
      "   micro avg       0.87      0.87      0.87      9061\n",
      "   macro avg       0.86      0.87      0.86      9061\n",
      "weighted avg       0.87      0.87      0.87      9061\n",
      "\n"
     ]
    }
   ],
   "source": [
    "print(\"Classification Report for Decision Tree Classifier: \\n\",smt.classification_report(y_test,pred_y))"
   ]
  },
  {
   "cell_type": "code",
   "execution_count": 11,
   "metadata": {},
   "outputs": [
    {
     "name": "stderr",
     "output_type": "stream",
     "text": [
      "/home/kritika/anaconda3/lib/python3.6/site-packages/sklearn/ensemble/forest.py:248: FutureWarning: The default value of n_estimators will change from 10 in version 0.20 to 100 in 0.22.\n",
      "  \"10 in version 0.20 to 100 in 0.22.\", FutureWarning)\n"
     ]
    },
    {
     "name": "stdout",
     "output_type": "stream",
     "text": [
      "Accuracy Score :  0.9750579406246551\n"
     ]
    }
   ],
   "source": [
    "from sklearn.ensemble import RandomForestClassifier\n",
    "\n",
    "#model 2 ----> Random Forest Classifier (Entropy)\n",
    "ranfor = RandomForestClassifier(criterion='entropy')\n",
    "ranfor.fit(x_train,y_train)\n",
    "pred_y = ranfor.predict(x_test)\n",
    "\n",
    "#storing model name and it's accuracy\n",
    "model.append(\"Random Forest Classifier (Entropy)\")\n",
    "acc.append(smt.accuracy_score(y_test,pred_y)*100)\n",
    "\n",
    "print(\"Accuracy Score : \",smt.accuracy_score(y_test,pred_y))"
   ]
  },
  {
   "cell_type": "code",
   "execution_count": 12,
   "metadata": {},
   "outputs": [
    {
     "name": "stdout",
     "output_type": "stream",
     "text": [
      "Classification Report for Random Forest Classifier (Entropy): \n",
      "               precision    recall  f1-score   support\n",
      "\n",
      "           0       0.95      1.00      0.97       354\n",
      "           1       0.94      0.99      0.96       302\n",
      "           2       1.00      0.99      1.00       378\n",
      "           3       0.98      0.99      0.98       407\n",
      "           4       0.97      0.97      0.97       320\n",
      "           5       0.97      1.00      0.98       407\n",
      "           6       0.98      0.98      0.98       348\n",
      "           7       0.98      0.97      0.98       339\n",
      "           8       0.96      0.96      0.96       392\n",
      "          10       0.97      0.98      0.98       373\n",
      "          11       0.99      0.99      0.99       424\n",
      "          12       0.96      0.95      0.96       362\n",
      "          13       0.98      0.95      0.96       377\n",
      "          14       0.99      0.98      0.99       400\n",
      "          15       0.99      0.99      0.99       349\n",
      "          16       0.99      1.00      0.99       436\n",
      "          17       0.95      0.97      0.96       432\n",
      "          18       0.96      0.94      0.95       445\n",
      "          19       0.98      0.99      0.99       379\n",
      "          20       0.97      0.96      0.96       384\n",
      "          21       0.97      0.96      0.96       326\n",
      "          22       0.99      0.95      0.97       403\n",
      "          23       0.99      0.97      0.98       381\n",
      "          24       0.99      0.98      0.98       343\n",
      "\n",
      "   micro avg       0.98      0.98      0.98      9061\n",
      "   macro avg       0.97      0.98      0.98      9061\n",
      "weighted avg       0.98      0.98      0.98      9061\n",
      "\n"
     ]
    }
   ],
   "source": [
    "print(\"Classification Report for Random Forest Classifier (Entropy): \\n\",smt.classification_report(y_test,pred_y))"
   ]
  },
  {
   "cell_type": "code",
   "execution_count": 13,
   "metadata": {
    "scrolled": true
   },
   "outputs": [
    {
     "name": "stderr",
     "output_type": "stream",
     "text": [
      "/home/kritika/anaconda3/lib/python3.6/site-packages/sklearn/ensemble/forest.py:248: FutureWarning: The default value of n_estimators will change from 10 in version 0.20 to 100 in 0.22.\n",
      "  \"10 in version 0.20 to 100 in 0.22.\", FutureWarning)\n"
     ]
    },
    {
     "name": "stdout",
     "output_type": "stream",
     "text": [
      "Accuracy Score :  0.9729610418276129\n"
     ]
    }
   ],
   "source": [
    "#model 3 ----> Random Forest Classifier (gini)\n",
    "ranfor = RandomForestClassifier(criterion='gini')\n",
    "ranfor.fit(x_train,y_train)\n",
    "pred_y = ranfor.predict(x_test)\n",
    "\n",
    "#storing model name and it's accuracy\n",
    "model.append(\"Random Forest Classifier (Gini)\")\n",
    "acc.append(smt.accuracy_score(y_test,pred_y)*100)\n",
    "\n",
    "print(\"Accuracy Score : \",smt.accuracy_score(y_test,pred_y))"
   ]
  },
  {
   "cell_type": "code",
   "execution_count": 14,
   "metadata": {},
   "outputs": [
    {
     "name": "stdout",
     "output_type": "stream",
     "text": [
      "Classification Report for Random Forest Classifier (Gini) : \n",
      "               precision    recall  f1-score   support\n",
      "\n",
      "           0       0.95      0.99      0.97       354\n",
      "           1       0.95      0.98      0.96       302\n",
      "           2       0.99      1.00      0.99       378\n",
      "           3       0.99      0.98      0.99       407\n",
      "           4       0.97      0.98      0.97       320\n",
      "           5       0.98      0.99      0.99       407\n",
      "           6       0.97      0.97      0.97       348\n",
      "           7       0.97      0.98      0.97       339\n",
      "           8       0.95      0.95      0.95       392\n",
      "          10       0.96      0.98      0.97       373\n",
      "          11       0.99      0.98      0.99       424\n",
      "          12       0.94      0.96      0.95       362\n",
      "          13       0.96      0.96      0.96       377\n",
      "          14       0.99      0.98      0.99       400\n",
      "          15       0.97      1.00      0.99       349\n",
      "          16       0.99      0.99      0.99       436\n",
      "          17       0.95      0.97      0.96       432\n",
      "          18       0.98      0.93      0.95       445\n",
      "          19       0.96      0.97      0.97       379\n",
      "          20       0.98      0.95      0.96       384\n",
      "          21       0.98      0.98      0.98       326\n",
      "          22       0.99      0.96      0.97       403\n",
      "          23       0.99      0.97      0.98       381\n",
      "          24       0.99      0.97      0.98       343\n",
      "\n",
      "   micro avg       0.97      0.97      0.97      9061\n",
      "   macro avg       0.97      0.97      0.97      9061\n",
      "weighted avg       0.97      0.97      0.97      9061\n",
      "\n"
     ]
    }
   ],
   "source": [
    "print(\"Classification Report for Random Forest Classifier (Gini) : \\n\",smt.classification_report(y_test,pred_y))"
   ]
  },
  {
   "cell_type": "code",
   "execution_count": 15,
   "metadata": {},
   "outputs": [
    {
     "data": {
      "text/plain": [
       "(27455, 200)"
      ]
     },
     "execution_count": 15,
     "metadata": {},
     "output_type": "execute_result"
    }
   ],
   "source": [
    "#applying PCA before training with SVC\n",
    "from sklearn.decomposition import PCA\n",
    "\n",
    "#reducing features from 784 to 200 features\n",
    "pca = PCA(n_components=200)\n",
    "pca.fit(features)\n",
    "x_new = pca.transform(features)\n",
    "x_new.shape"
   ]
  },
  {
   "cell_type": "code",
   "execution_count": 16,
   "metadata": {},
   "outputs": [],
   "source": [
    "#splitting dataset into training and testing dataset\n",
    "x_train, x_test, y_train, y_test = train_test_split(x_new,target, test_size=0.33, random_state=42)"
   ]
  },
  {
   "cell_type": "code",
   "execution_count": 17,
   "metadata": {},
   "outputs": [],
   "source": [
    "from sklearn.svm import SVC"
   ]
  },
  {
   "cell_type": "code",
   "execution_count": 18,
   "metadata": {},
   "outputs": [
    {
     "name": "stdout",
     "output_type": "stream",
     "text": [
      "SVM when Kernel = 'LINEAR':-\n",
      "\n",
      "Accuracy Score :  1.0\n"
     ]
    }
   ],
   "source": [
    "#model 4 ----> SVM (linear)\n",
    "svc = SVC(kernel='linear')\n",
    "svc.fit(x_train,y_train)\n",
    "pred_y = svc.predict(x_test)\n",
    "\n",
    "#storing model name and it's accuracy\n",
    "model.append(\"SVM (Linear)\")\n",
    "acc.append(smt.accuracy_score(y_test,pred_y)*100)\n",
    "\n",
    "print(\"SVM when Kernel = 'LINEAR':-\\n\")\n",
    "print(\"Accuracy Score : \",smt.accuracy_score(y_test,pred_y))"
   ]
  },
  {
   "cell_type": "code",
   "execution_count": 19,
   "metadata": {},
   "outputs": [
    {
     "name": "stdout",
     "output_type": "stream",
     "text": [
      "Classification Report for SVM (linear) : \n",
      "               precision    recall  f1-score   support\n",
      "\n",
      "           0       1.00      1.00      1.00       354\n",
      "           1       1.00      1.00      1.00       302\n",
      "           2       1.00      1.00      1.00       378\n",
      "           3       1.00      1.00      1.00       407\n",
      "           4       1.00      1.00      1.00       320\n",
      "           5       1.00      1.00      1.00       407\n",
      "           6       1.00      1.00      1.00       348\n",
      "           7       1.00      1.00      1.00       339\n",
      "           8       1.00      1.00      1.00       392\n",
      "          10       1.00      1.00      1.00       373\n",
      "          11       1.00      1.00      1.00       424\n",
      "          12       1.00      1.00      1.00       362\n",
      "          13       1.00      1.00      1.00       377\n",
      "          14       1.00      1.00      1.00       400\n",
      "          15       1.00      1.00      1.00       349\n",
      "          16       1.00      1.00      1.00       436\n",
      "          17       1.00      1.00      1.00       432\n",
      "          18       1.00      1.00      1.00       445\n",
      "          19       1.00      1.00      1.00       379\n",
      "          20       1.00      1.00      1.00       384\n",
      "          21       1.00      1.00      1.00       326\n",
      "          22       1.00      1.00      1.00       403\n",
      "          23       1.00      1.00      1.00       381\n",
      "          24       1.00      1.00      1.00       343\n",
      "\n",
      "   micro avg       1.00      1.00      1.00      9061\n",
      "   macro avg       1.00      1.00      1.00      9061\n",
      "weighted avg       1.00      1.00      1.00      9061\n",
      "\n"
     ]
    }
   ],
   "source": [
    "print(\"Classification Report for SVM (linear) : \\n\",smt.classification_report(y_test,pred_y))"
   ]
  },
  {
   "cell_type": "code",
   "execution_count": 20,
   "metadata": {},
   "outputs": [
    {
     "name": "stderr",
     "output_type": "stream",
     "text": [
      "/home/kritika/anaconda3/lib/python3.6/site-packages/sklearn/svm/base.py:196: FutureWarning: The default value of gamma will change from 'auto' to 'scale' in version 0.22 to account better for unscaled features. Set gamma explicitly to 'auto' or 'scale' to avoid this warning.\n",
      "  \"avoid this warning.\", FutureWarning)\n"
     ]
    },
    {
     "name": "stdout",
     "output_type": "stream",
     "text": [
      "SVM when Kernel = 'GAUSSIAN':-\n",
      "\n",
      "Accuracy Score :  0.15859176691314425\n"
     ]
    }
   ],
   "source": [
    "#model 5 ----> SVM (gaussian)\n",
    "svc = SVC(kernel='rbf')\n",
    "svc.fit(x_train,y_train)\n",
    "pred_y = svc.predict(x_test)\n",
    "\n",
    "model.append(\"SVM (Gaussian)\")\n",
    "acc.append(smt.accuracy_score(y_test,pred_y)*100)\n",
    "\n",
    "print(\"SVM when Kernel = 'GAUSSIAN':-\\n\")\n",
    "print(\"Accuracy Score : \",smt.accuracy_score(y_test,pred_y))"
   ]
  },
  {
   "cell_type": "code",
   "execution_count": 21,
   "metadata": {},
   "outputs": [
    {
     "name": "stdout",
     "output_type": "stream",
     "text": [
      "Classification Report for SVM (gaussian) : \n",
      "               precision    recall  f1-score   support\n",
      "\n",
      "           0       1.00      0.09      0.16       354\n",
      "           1       1.00      0.08      0.15       302\n",
      "           2       1.00      0.13      0.23       378\n",
      "           3       1.00      0.13      0.22       407\n",
      "           4       1.00      0.08      0.15       320\n",
      "           5       1.00      0.09      0.17       407\n",
      "           6       1.00      0.17      0.29       348\n",
      "           7       1.00      0.12      0.21       339\n",
      "           8       1.00      0.11      0.20       392\n",
      "          10       1.00      0.10      0.18       373\n",
      "          11       1.00      0.14      0.25       424\n",
      "          12       1.00      0.07      0.13       362\n",
      "          13       1.00      0.12      0.22       377\n",
      "          14       1.00      0.11      0.20       400\n",
      "          15       1.00      0.14      0.25       349\n",
      "          16       1.00      0.16      0.28       436\n",
      "          17       0.05      1.00      0.10       432\n",
      "          18       1.00      0.09      0.16       445\n",
      "          19       1.00      0.16      0.28       379\n",
      "          20       1.00      0.10      0.18       384\n",
      "          21       1.00      0.12      0.21       326\n",
      "          22       1.00      0.09      0.17       403\n",
      "          23       1.00      0.12      0.22       381\n",
      "          24       1.00      0.15      0.27       343\n",
      "\n",
      "   micro avg       0.16      0.16      0.16      9061\n",
      "   macro avg       0.96      0.15      0.20      9061\n",
      "weighted avg       0.95      0.16      0.20      9061\n",
      "\n"
     ]
    }
   ],
   "source": [
    "print(\"Classification Report for SVM (gaussian) : \\n\",smt.classification_report(y_test,pred_y))"
   ]
  },
  {
   "cell_type": "code",
   "execution_count": 22,
   "metadata": {
    "scrolled": true
   },
   "outputs": [
    {
     "data": {
      "text/html": [
       "<div>\n",
       "<style scoped>\n",
       "    .dataframe tbody tr th:only-of-type {\n",
       "        vertical-align: middle;\n",
       "    }\n",
       "\n",
       "    .dataframe tbody tr th {\n",
       "        vertical-align: top;\n",
       "    }\n",
       "\n",
       "    .dataframe thead th {\n",
       "        text-align: right;\n",
       "    }\n",
       "</style>\n",
       "<table border=\"1\" class=\"dataframe\">\n",
       "  <thead>\n",
       "    <tr style=\"text-align: right;\">\n",
       "      <th></th>\n",
       "      <th>Models</th>\n",
       "      <th>Accuracy</th>\n",
       "    </tr>\n",
       "  </thead>\n",
       "  <tbody>\n",
       "    <tr>\n",
       "      <th>0</th>\n",
       "      <td>Decision Tree Classifier</td>\n",
       "      <td>86.546739</td>\n",
       "    </tr>\n",
       "    <tr>\n",
       "      <th>1</th>\n",
       "      <td>Random Forest Classifier (Entropy)</td>\n",
       "      <td>97.505794</td>\n",
       "    </tr>\n",
       "    <tr>\n",
       "      <th>2</th>\n",
       "      <td>Random Forest Classifier (Gini)</td>\n",
       "      <td>97.296104</td>\n",
       "    </tr>\n",
       "    <tr>\n",
       "      <th>3</th>\n",
       "      <td>SVM (Linear)</td>\n",
       "      <td>100.000000</td>\n",
       "    </tr>\n",
       "    <tr>\n",
       "      <th>4</th>\n",
       "      <td>SVM (Gaussian)</td>\n",
       "      <td>15.859177</td>\n",
       "    </tr>\n",
       "  </tbody>\n",
       "</table>\n",
       "</div>"
      ],
      "text/plain": [
       "                               Models    Accuracy\n",
       "0            Decision Tree Classifier   86.546739\n",
       "1  Random Forest Classifier (Entropy)   97.505794\n",
       "2     Random Forest Classifier (Gini)   97.296104\n",
       "3                        SVM (Linear)  100.000000\n",
       "4                      SVM (Gaussian)   15.859177"
      ]
     },
     "execution_count": 22,
     "metadata": {},
     "output_type": "execute_result"
    }
   ],
   "source": [
    "#list of models and their accuracies\n",
    "model_acc =pd.DataFrame(data=list(zip(model,acc)),columns=('Models','Accuracy'))\n",
    "model_acc"
   ]
  },
  {
   "cell_type": "code",
   "execution_count": 23,
   "metadata": {},
   "outputs": [
    {
     "data": {
      "text/plain": [
       "<matplotlib.axes._subplots.AxesSubplot at 0x7fb925f27710>"
      ]
     },
     "execution_count": 23,
     "metadata": {},
     "output_type": "execute_result"
    },
    {
     "data": {
      "image/png": "[encoded data removed]",
      "text/plain": [
       "<Figure size 1080x360 with 1 Axes>"
      ]
     },
     "metadata": {},
     "output_type": "display_data"
    }
   ],
   "source": [
    "plt.figure(figsize=(15,5))\n",
    "sns.barplot(data=model_acc,x='Models',y='Accuracy')"
   ]
  },
  {
   "cell_type": "markdown",
   "metadata": {},
   "source": [
    "# Conclusion : \n",
    "By analysing the above graph, it is clear that SVM(linear) helps in attaining the maximum accuracy of 100% for the given dataset"
   ]
  },
  {
   "cell_type": "code",
   "execution_count": null,
   "metadata": {},
   "outputs": [],
   "source": []
  }
 ],
 "metadata": {
  "kernelspec": {
   "display_name": "Python 3",
   "language": "python",
   "name": "python3"
  },
  "language_info": {
   "codemirror_mode": {
    "name": "ipython",
    "version": 3
   },
   "file_extension": ".py",
   "mimetype": "text/x-python",
   "name": "python",
   "nbconvert_exporter": "python",
   "pygments_lexer": "ipython3",
   "version": "3.6.5"
  }
 },
 "nbformat": 4,
 "nbformat_minor": 2
}
